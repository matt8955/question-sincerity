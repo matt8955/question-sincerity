{
 "cells": [
  {
   "cell_type": "code",
   "execution_count": 1,
   "metadata": {
    "execution": {
     "iopub.execute_input": "2020-12-03T19:21:21.586804Z",
     "iopub.status.busy": "2020-12-03T19:21:21.586523Z",
     "iopub.status.idle": "2020-12-03T19:21:23.448927Z",
     "shell.execute_reply": "2020-12-03T19:21:23.448431Z",
     "shell.execute_reply.started": "2020-12-03T19:21:21.586731Z"
    }
   },
   "outputs": [],
   "source": [
    "import spacy\n",
    "import numpy as np\n",
    "import plotly.express as px\n",
    "import pandas as pd\n",
    "from tqdm.notebook import tqdm"
   ]
  },
  {
   "cell_type": "code",
   "execution_count": 2,
   "metadata": {
    "execution": {
     "iopub.execute_input": "2020-12-03T19:21:23.449727Z",
     "iopub.status.busy": "2020-12-03T19:21:23.449613Z",
     "iopub.status.idle": "2020-12-03T19:21:23.453624Z",
     "shell.execute_reply": "2020-12-03T19:21:23.453003Z",
     "shell.execute_reply.started": "2020-12-03T19:21:23.449712Z"
    }
   },
   "outputs": [
    {
     "name": "stderr",
     "output_type": "stream",
     "text": [
      "/home/matt/.pyenv/versions/3.8.6/envs/question-sincerity/lib/python3.8/site-packages/tqdm/std.py:699: FutureWarning: The Panel class is removed from pandas. Accessing it from the top-level namespace will also be removed in the next version\n",
      "  from pandas import Panel\n"
     ]
    }
   ],
   "source": [
    "tqdm.pandas()"
   ]
  },
  {
   "cell_type": "code",
   "execution_count": 3,
   "metadata": {
    "execution": {
     "iopub.execute_input": "2020-12-03T19:21:24.550147Z",
     "iopub.status.busy": "2020-12-03T19:21:24.549888Z",
     "iopub.status.idle": "2020-12-03T19:21:26.161777Z",
     "shell.execute_reply": "2020-12-03T19:21:26.161314Z",
     "shell.execute_reply.started": "2020-12-03T19:21:24.550119Z"
    }
   },
   "outputs": [],
   "source": [
    "df = pd.read_csv(\"train.csv\")"
   ]
  },
  {
   "cell_type": "code",
   "execution_count": 4,
   "metadata": {
    "execution": {
     "iopub.execute_input": "2020-12-03T19:21:26.162601Z",
     "iopub.status.busy": "2020-12-03T19:21:26.162434Z",
     "iopub.status.idle": "2020-12-03T19:21:26.174033Z",
     "shell.execute_reply": "2020-12-03T19:21:26.173668Z",
     "shell.execute_reply.started": "2020-12-03T19:21:26.162586Z"
    }
   },
   "outputs": [
    {
     "data": {
      "text/html": [
       "<div>\n",
       "<style scoped>\n",
       "    .dataframe tbody tr th:only-of-type {\n",
       "        vertical-align: middle;\n",
       "    }\n",
       "\n",
       "    .dataframe tbody tr th {\n",
       "        vertical-align: top;\n",
       "    }\n",
       "\n",
       "    .dataframe thead th {\n",
       "        text-align: right;\n",
       "    }\n",
       "</style>\n",
       "<table border=\"1\" class=\"dataframe\">\n",
       "  <thead>\n",
       "    <tr style=\"text-align: right;\">\n",
       "      <th></th>\n",
       "      <th>qid</th>\n",
       "      <th>question_text</th>\n",
       "      <th>target</th>\n",
       "    </tr>\n",
       "  </thead>\n",
       "  <tbody>\n",
       "    <tr>\n",
       "      <th>0</th>\n",
       "      <td>00002165364db923c7e6</td>\n",
       "      <td>How did Quebec nationalists see their province...</td>\n",
       "      <td>0</td>\n",
       "    </tr>\n",
       "    <tr>\n",
       "      <th>1</th>\n",
       "      <td>000032939017120e6e44</td>\n",
       "      <td>Do you have an adopted dog, how would you enco...</td>\n",
       "      <td>0</td>\n",
       "    </tr>\n",
       "    <tr>\n",
       "      <th>2</th>\n",
       "      <td>0000412ca6e4628ce2cf</td>\n",
       "      <td>Why does velocity affect time? Does velocity a...</td>\n",
       "      <td>0</td>\n",
       "    </tr>\n",
       "    <tr>\n",
       "      <th>3</th>\n",
       "      <td>000042bf85aa498cd78e</td>\n",
       "      <td>How did Otto von Guericke used the Magdeburg h...</td>\n",
       "      <td>0</td>\n",
       "    </tr>\n",
       "    <tr>\n",
       "      <th>4</th>\n",
       "      <td>0000455dfa3e01eae3af</td>\n",
       "      <td>Can I convert montra helicon D to a mountain b...</td>\n",
       "      <td>0</td>\n",
       "    </tr>\n",
       "  </tbody>\n",
       "</table>\n",
       "</div>"
      ],
      "text/plain": [
       "                    qid                                      question_text  \\\n",
       "0  00002165364db923c7e6  How did Quebec nationalists see their province...   \n",
       "1  000032939017120e6e44  Do you have an adopted dog, how would you enco...   \n",
       "2  0000412ca6e4628ce2cf  Why does velocity affect time? Does velocity a...   \n",
       "3  000042bf85aa498cd78e  How did Otto von Guericke used the Magdeburg h...   \n",
       "4  0000455dfa3e01eae3af  Can I convert montra helicon D to a mountain b...   \n",
       "\n",
       "   target  \n",
       "0       0  \n",
       "1       0  \n",
       "2       0  \n",
       "3       0  \n",
       "4       0  "
      ]
     },
     "execution_count": 4,
     "metadata": {},
     "output_type": "execute_result"
    }
   ],
   "source": [
    "df.head()"
   ]
  },
  {
   "cell_type": "code",
   "execution_count": 5,
   "metadata": {
    "execution": {
     "iopub.execute_input": "2020-12-03T19:21:26.174958Z",
     "iopub.status.busy": "2020-12-03T19:21:26.174837Z",
     "iopub.status.idle": "2020-12-03T19:21:26.182377Z",
     "shell.execute_reply": "2020-12-03T19:21:26.181730Z",
     "shell.execute_reply.started": "2020-12-03T19:21:26.174941Z"
    }
   },
   "outputs": [
    {
     "data": {
      "text/plain": [
       "(1306122, 3)"
      ]
     },
     "execution_count": 5,
     "metadata": {},
     "output_type": "execute_result"
    }
   ],
   "source": [
    "df.shape"
   ]
  },
  {
   "cell_type": "code",
   "execution_count": 6,
   "metadata": {
    "execution": {
     "iopub.execute_input": "2020-12-03T19:21:26.183282Z",
     "iopub.status.busy": "2020-12-03T19:21:26.183087Z",
     "iopub.status.idle": "2020-12-03T19:21:26.657046Z",
     "shell.execute_reply": "2020-12-03T19:21:26.656483Z",
     "shell.execute_reply.started": "2020-12-03T19:21:26.183250Z"
    }
   },
   "outputs": [
    {
     "data": {
      "text/plain": [
       "count    1306122\n",
       "mean          70\n",
       "std           38\n",
       "min            1\n",
       "25%           45\n",
       "50%           60\n",
       "75%           85\n",
       "max         1017\n",
       "Name: question_text, dtype: int64"
      ]
     },
     "execution_count": 6,
     "metadata": {},
     "output_type": "execute_result"
    }
   ],
   "source": [
    "#question len\n",
    "df.question_text.str.len().describe().astype(\"int\")"
   ]
  },
  {
   "cell_type": "code",
   "execution_count": 7,
   "metadata": {
    "execution": {
     "iopub.execute_input": "2020-12-03T19:21:26.657735Z",
     "iopub.status.busy": "2020-12-03T19:21:26.657623Z",
     "iopub.status.idle": "2020-12-03T19:21:27.989866Z",
     "shell.execute_reply": "2020-12-03T19:21:27.989336Z",
     "shell.execute_reply.started": "2020-12-03T19:21:26.657719Z"
    }
   },
   "outputs": [],
   "source": [
    "nlp = spacy.load(\"en_core_web_md\")\n",
    "# nlp.add_pipe(\"merge_entities\")\n",
    "# nlp.add_pipe(\"merge_noun_chunks\")"
   ]
  },
  {
   "cell_type": "code",
   "execution_count": 8,
   "metadata": {
    "execution": {
     "iopub.execute_input": "2020-12-03T19:21:27.990596Z",
     "iopub.status.busy": "2020-12-03T19:21:27.990481Z",
     "iopub.status.idle": "2020-12-03T19:31:09.023731Z",
     "shell.execute_reply": "2020-12-03T19:31:09.023221Z",
     "shell.execute_reply.started": "2020-12-03T19:21:27.990580Z"
    }
   },
   "outputs": [
    {
     "data": {
      "application/vnd.jupyter.widget-view+json": {
       "model_id": "eb831b3611c447f389ef0b6d41279244",
       "version_major": 2,
       "version_minor": 0
      },
      "text/plain": [
       "HBox(children=(HTML(value=''), FloatProgress(value=0.0, max=1306122.0), HTML(value='')))"
      ]
     },
     "metadata": {},
     "output_type": "display_data"
    },
    {
     "name": "stdout",
     "output_type": "stream",
     "text": [
      "\n"
     ]
    }
   ],
   "source": [
    "docs = list(nlp.pipe(tqdm(df.question_text),n_process=4,batch_size=1000))"
   ]
  },
  {
   "cell_type": "code",
   "execution_count": 11,
   "metadata": {
    "execution": {
     "iopub.execute_input": "2020-12-03T07:09:49.234323Z",
     "iopub.status.busy": "2020-12-03T07:09:49.234067Z",
     "iopub.status.idle": "2020-12-03T07:09:49.239296Z",
     "shell.execute_reply": "2020-12-03T07:09:49.238400Z",
     "shell.execute_reply.started": "2020-12-03T07:09:49.234293Z"
    }
   },
   "outputs": [
    {
     "data": {
      "text/plain": [
       "How did Quebec nationalists see their province as a nation in the 1960s?"
      ]
     },
     "execution_count": 11,
     "metadata": {},
     "output_type": "execute_result"
    }
   ],
   "source": [
    "doc[0]"
   ]
  },
  {
   "cell_type": "code",
   "execution_count": null,
   "metadata": {},
   "outputs": [],
   "source": []
  }
 ],
 "metadata": {
  "kernelspec": {
   "display_name": "Python 3",
   "language": "python",
   "name": "python3"
  },
  "language_info": {
   "codemirror_mode": {
    "name": "ipython",
    "version": 3
   },
   "file_extension": ".py",
   "mimetype": "text/x-python",
   "name": "python",
   "nbconvert_exporter": "python",
   "pygments_lexer": "ipython3",
   "version": "3.8.6"
  }
 },
 "nbformat": 4,
 "nbformat_minor": 4
}
