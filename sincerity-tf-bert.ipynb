{
 "cells": [
  {
   "cell_type": "code",
   "execution_count": 1,
   "metadata": {},
   "outputs": [
    {
     "name": "stdout",
     "output_type": "stream",
     "text": [
      "Wed Jan  6 11:24:14 2021       \n",
      "+-----------------------------------------------------------------------------+\n",
      "| NVIDIA-SMI 455.45.01    Driver Version: 455.45.01    CUDA Version: 11.1     |\n",
      "|-------------------------------+----------------------+----------------------+\n",
      "| GPU  Name        Persistence-M| Bus-Id        Disp.A | Volatile Uncorr. ECC |\n",
      "| Fan  Temp  Perf  Pwr:Usage/Cap|         Memory-Usage | GPU-Util  Compute M. |\n",
      "|                               |                      |               MIG M. |\n",
      "|===============================+======================+======================|\n",
      "|   0  GeForce RTX 3070    Off  | 00000000:09:00.0  On |                  N/A |\n",
      "|  0%   40C    P8    12W / 220W |    253MiB /  7979MiB |      5%      Default |\n",
      "|                               |                      |                  N/A |\n",
      "+-------------------------------+----------------------+----------------------+\n",
      "                                                                               \n",
      "+-----------------------------------------------------------------------------+\n",
      "| Processes:                                                                  |\n",
      "|  GPU   GI   CI        PID   Type   Process name                  GPU Memory |\n",
      "|        ID   ID                                                   Usage      |\n",
      "|=============================================================================|\n",
      "|    0   N/A  N/A      1467      G   /usr/lib/Xorg                     118MiB |\n",
      "|    0   N/A  N/A      1537      G   /usr/bin/gnome-shell               39MiB |\n",
      "|    0   N/A  N/A      2252      G   ...AAAAAAAA== --shared-files       92MiB |\n",
      "+-----------------------------------------------------------------------------+\n"
     ]
    }
   ],
   "source": [
    "!nvidia-smi"
   ]
  },
  {
   "cell_type": "code",
   "execution_count": 2,
   "metadata": {
    "collapsed": true,
    "jupyter": {
     "outputs_hidden": true
    }
   },
   "outputs": [
    {
     "name": "stdout",
     "output_type": "stream",
     "text": [
      "Requirement already satisfied: tensorflow in /home/matt/.pyenv/versions/3.8.6/envs/tf/lib/python3.8/site-packages (2.4.0)\n",
      "Requirement already satisfied: tf-models-official in /home/matt/.pyenv/versions/3.8.6/envs/tf/lib/python3.8/site-packages (2.4.0)\n",
      "Requirement already satisfied: gast==0.3.3 in /home/matt/.pyenv/versions/3.8.6/envs/tf/lib/python3.8/site-packages (from tensorflow) (0.3.3)\n",
      "Requirement already satisfied: flatbuffers~=1.12.0 in /home/matt/.pyenv/versions/3.8.6/envs/tf/lib/python3.8/site-packages (from tensorflow) (1.12)\n",
      "Requirement already satisfied: tensorboard~=2.4 in /home/matt/.pyenv/versions/3.8.6/envs/tf/lib/python3.8/site-packages (from tensorflow) (2.4.0)\n",
      "Requirement already satisfied: absl-py~=0.10 in /home/matt/.pyenv/versions/3.8.6/envs/tf/lib/python3.8/site-packages (from tensorflow) (0.10.0)\n",
      "Requirement already satisfied: grpcio~=1.32.0 in /home/matt/.pyenv/versions/3.8.6/envs/tf/lib/python3.8/site-packages (from tensorflow) (1.32.0)\n",
      "Requirement already satisfied: opt-einsum~=3.3.0 in /home/matt/.pyenv/versions/3.8.6/envs/tf/lib/python3.8/site-packages (from tensorflow) (3.3.0)\n",
      "Requirement already satisfied: typing-extensions~=3.7.4 in /home/matt/.pyenv/versions/3.8.6/envs/tf/lib/python3.8/site-packages (from tensorflow) (3.7.4.3)\n",
      "Requirement already satisfied: termcolor~=1.1.0 in /home/matt/.pyenv/versions/3.8.6/envs/tf/lib/python3.8/site-packages (from tensorflow) (1.1.0)\n",
      "Requirement already satisfied: keras-preprocessing~=1.1.2 in /home/matt/.pyenv/versions/3.8.6/envs/tf/lib/python3.8/site-packages (from tensorflow) (1.1.2)\n",
      "Requirement already satisfied: wheel~=0.35 in /home/matt/.pyenv/versions/3.8.6/envs/tf/lib/python3.8/site-packages (from tensorflow) (0.36.2)\n",
      "Requirement already satisfied: google-pasta~=0.2 in /home/matt/.pyenv/versions/3.8.6/envs/tf/lib/python3.8/site-packages (from tensorflow) (0.2.0)\n",
      "Requirement already satisfied: astunparse~=1.6.3 in /home/matt/.pyenv/versions/3.8.6/envs/tf/lib/python3.8/site-packages (from tensorflow) (1.6.3)\n",
      "Requirement already satisfied: h5py~=2.10.0 in /home/matt/.pyenv/versions/3.8.6/envs/tf/lib/python3.8/site-packages (from tensorflow) (2.10.0)\n",
      "Requirement already satisfied: six~=1.15.0 in /home/matt/.pyenv/versions/3.8.6/envs/tf/lib/python3.8/site-packages (from tensorflow) (1.15.0)\n",
      "Requirement already satisfied: tensorflow-estimator<2.5.0,>=2.4.0rc0 in /home/matt/.pyenv/versions/3.8.6/envs/tf/lib/python3.8/site-packages (from tensorflow) (2.4.0)\n",
      "Requirement already satisfied: wrapt~=1.12.1 in /home/matt/.pyenv/versions/3.8.6/envs/tf/lib/python3.8/site-packages (from tensorflow) (1.12.1)\n",
      "Requirement already satisfied: protobuf>=3.9.2 in /home/matt/.pyenv/versions/3.8.6/envs/tf/lib/python3.8/site-packages (from tensorflow) (3.14.0)\n",
      "Requirement already satisfied: numpy~=1.19.2 in /home/matt/.pyenv/versions/3.8.6/envs/tf/lib/python3.8/site-packages (from tensorflow) (1.19.5)\n",
      "Requirement already satisfied: requests<3,>=2.21.0 in /home/matt/.pyenv/versions/3.8.6/envs/tf/lib/python3.8/site-packages (from tensorboard~=2.4->tensorflow) (2.25.1)\n",
      "Requirement already satisfied: markdown>=2.6.8 in /home/matt/.pyenv/versions/3.8.6/envs/tf/lib/python3.8/site-packages (from tensorboard~=2.4->tensorflow) (3.3.3)\n",
      "Requirement already satisfied: google-auth<2,>=1.6.3 in /home/matt/.pyenv/versions/3.8.6/envs/tf/lib/python3.8/site-packages (from tensorboard~=2.4->tensorflow) (1.24.0)\n",
      "Requirement already satisfied: tensorboard-plugin-wit>=1.6.0 in /home/matt/.pyenv/versions/3.8.6/envs/tf/lib/python3.8/site-packages (from tensorboard~=2.4->tensorflow) (1.7.0)\n",
      "Requirement already satisfied: werkzeug>=0.11.15 in /home/matt/.pyenv/versions/3.8.6/envs/tf/lib/python3.8/site-packages (from tensorboard~=2.4->tensorflow) (1.0.1)\n",
      "Requirement already satisfied: google-auth-oauthlib<0.5,>=0.4.1 in /home/matt/.pyenv/versions/3.8.6/envs/tf/lib/python3.8/site-packages (from tensorboard~=2.4->tensorflow) (0.4.2)\n",
      "Requirement already satisfied: setuptools>=41.0.0 in /home/matt/.pyenv/versions/3.8.6/envs/tf/lib/python3.8/site-packages (from tensorboard~=2.4->tensorflow) (49.2.1)\n",
      "Requirement already satisfied: rsa<5,>=3.1.4 in /home/matt/.pyenv/versions/3.8.6/envs/tf/lib/python3.8/site-packages (from google-auth<2,>=1.6.3->tensorboard~=2.4->tensorflow) (4.6)\n",
      "Requirement already satisfied: cachetools<5.0,>=2.0.0 in /home/matt/.pyenv/versions/3.8.6/envs/tf/lib/python3.8/site-packages (from google-auth<2,>=1.6.3->tensorboard~=2.4->tensorflow) (4.2.0)\n",
      "Requirement already satisfied: pyasn1-modules>=0.2.1 in /home/matt/.pyenv/versions/3.8.6/envs/tf/lib/python3.8/site-packages (from google-auth<2,>=1.6.3->tensorboard~=2.4->tensorflow) (0.2.8)\n",
      "Requirement already satisfied: requests-oauthlib>=0.7.0 in /home/matt/.pyenv/versions/3.8.6/envs/tf/lib/python3.8/site-packages (from google-auth-oauthlib<0.5,>=0.4.1->tensorboard~=2.4->tensorflow) (1.3.0)\n",
      "Requirement already satisfied: pyasn1<0.5.0,>=0.4.6 in /home/matt/.pyenv/versions/3.8.6/envs/tf/lib/python3.8/site-packages (from pyasn1-modules>=0.2.1->google-auth<2,>=1.6.3->tensorboard~=2.4->tensorflow) (0.4.8)\n",
      "Requirement already satisfied: certifi>=2017.4.17 in /home/matt/.pyenv/versions/3.8.6/envs/tf/lib/python3.8/site-packages (from requests<3,>=2.21.0->tensorboard~=2.4->tensorflow) (2020.12.5)\n",
      "Requirement already satisfied: idna<3,>=2.5 in /home/matt/.pyenv/versions/3.8.6/envs/tf/lib/python3.8/site-packages (from requests<3,>=2.21.0->tensorboard~=2.4->tensorflow) (2.10)\n",
      "Requirement already satisfied: chardet<5,>=3.0.2 in /home/matt/.pyenv/versions/3.8.6/envs/tf/lib/python3.8/site-packages (from requests<3,>=2.21.0->tensorboard~=2.4->tensorflow) (4.0.0)\n",
      "Requirement already satisfied: urllib3<1.27,>=1.21.1 in /home/matt/.pyenv/versions/3.8.6/envs/tf/lib/python3.8/site-packages (from requests<3,>=2.21.0->tensorboard~=2.4->tensorflow) (1.26.2)\n",
      "Requirement already satisfied: oauthlib>=3.0.0 in /home/matt/.pyenv/versions/3.8.6/envs/tf/lib/python3.8/site-packages (from requests-oauthlib>=0.7.0->google-auth-oauthlib<0.5,>=0.4.1->tensorboard~=2.4->tensorflow) (3.1.0)\n",
      "Requirement already satisfied: tensorflow-hub>=0.6.0 in /home/matt/.pyenv/versions/3.8.6/envs/tf/lib/python3.8/site-packages (from tf-models-official) (0.11.0)\n",
      "Requirement already satisfied: matplotlib in /home/matt/.pyenv/versions/3.8.6/envs/tf/lib/python3.8/site-packages (from tf-models-official) (3.3.3)\n",
      "Requirement already satisfied: Cython in /home/matt/.pyenv/versions/3.8.6/envs/tf/lib/python3.8/site-packages (from tf-models-official) (0.29.21)\n",
      "Requirement already satisfied: oauth2client in /home/matt/.pyenv/versions/3.8.6/envs/tf/lib/python3.8/site-packages (from tf-models-official) (4.1.3)\n",
      "Requirement already satisfied: gin-config in /home/matt/.pyenv/versions/3.8.6/envs/tf/lib/python3.8/site-packages (from tf-models-official) (0.4.0)\n",
      "Requirement already satisfied: tensorflow-addons in /home/matt/.pyenv/versions/3.8.6/envs/tf/lib/python3.8/site-packages (from tf-models-official) (0.12.0)\n",
      "Requirement already satisfied: tf-slim>=1.1.0 in /home/matt/.pyenv/versions/3.8.6/envs/tf/lib/python3.8/site-packages (from tf-models-official) (1.1.0)\n",
      "Requirement already satisfied: scipy>=0.19.1 in /home/matt/.pyenv/versions/3.8.6/envs/tf/lib/python3.8/site-packages (from tf-models-official) (1.6.0)\n",
      "Requirement already satisfied: Pillow in /home/matt/.pyenv/versions/3.8.6/envs/tf/lib/python3.8/site-packages (from tf-models-official) (8.1.0)\n",
      "Requirement already satisfied: psutil>=5.4.3 in /home/matt/.pyenv/versions/3.8.6/envs/tf/lib/python3.8/site-packages (from tf-models-official) (5.8.0)\n",
      "Requirement already satisfied: pycocotools in /home/matt/.pyenv/versions/3.8.6/envs/tf/lib/python3.8/site-packages (from tf-models-official) (2.0.2)\n",
      "Requirement already satisfied: opencv-python-headless in /home/matt/.pyenv/versions/3.8.6/envs/tf/lib/python3.8/site-packages (from tf-models-official) (4.5.1.48)\n",
      "Requirement already satisfied: tensorflow-datasets in /home/matt/.pyenv/versions/3.8.6/envs/tf/lib/python3.8/site-packages (from tf-models-official) (4.1.0)\n",
      "Requirement already satisfied: tensorflow-model-optimization>=0.4.1 in /home/matt/.pyenv/versions/3.8.6/envs/tf/lib/python3.8/site-packages (from tf-models-official) (0.5.0)\n",
      "Requirement already satisfied: py-cpuinfo>=3.3.0 in /home/matt/.pyenv/versions/3.8.6/envs/tf/lib/python3.8/site-packages (from tf-models-official) (7.0.0)\n",
      "Requirement already satisfied: pyyaml>=5.1 in /home/matt/.pyenv/versions/3.8.6/envs/tf/lib/python3.8/site-packages (from tf-models-official) (5.3.1)\n",
      "Requirement already satisfied: kaggle>=1.3.9 in /home/matt/.pyenv/versions/3.8.6/envs/tf/lib/python3.8/site-packages (from tf-models-official) (1.5.10)\n",
      "Requirement already satisfied: dataclasses in /home/matt/.pyenv/versions/3.8.6/envs/tf/lib/python3.8/site-packages (from tf-models-official) (0.6)\n",
      "Requirement already satisfied: seqeval in /home/matt/.pyenv/versions/3.8.6/envs/tf/lib/python3.8/site-packages (from tf-models-official) (1.2.2)\n",
      "Requirement already satisfied: pandas>=0.22.0 in /home/matt/.pyenv/versions/3.8.6/envs/tf/lib/python3.8/site-packages (from tf-models-official) (1.2.0)\n",
      "Requirement already satisfied: sentencepiece in /home/matt/.pyenv/versions/3.8.6/envs/tf/lib/python3.8/site-packages (from tf-models-official) (0.1.94)\n",
      "Requirement already satisfied: google-cloud-bigquery>=0.31.0 in /home/matt/.pyenv/versions/3.8.6/envs/tf/lib/python3.8/site-packages (from tf-models-official) (2.6.1)\n",
      "Requirement already satisfied: google-api-python-client>=1.6.7 in /home/matt/.pyenv/versions/3.8.6/envs/tf/lib/python3.8/site-packages (from tf-models-official) (1.12.8)\n",
      "Requirement already satisfied: httplib2<1dev,>=0.15.0 in /home/matt/.pyenv/versions/3.8.6/envs/tf/lib/python3.8/site-packages (from google-api-python-client>=1.6.7->tf-models-official) (0.18.1)\n",
      "Requirement already satisfied: google-api-core<2dev,>=1.21.0 in /home/matt/.pyenv/versions/3.8.6/envs/tf/lib/python3.8/site-packages (from google-api-python-client>=1.6.7->tf-models-official) (1.24.1)\n",
      "Requirement already satisfied: google-auth-httplib2>=0.0.3 in /home/matt/.pyenv/versions/3.8.6/envs/tf/lib/python3.8/site-packages (from google-api-python-client>=1.6.7->tf-models-official) (0.0.4)\n",
      "Requirement already satisfied: uritemplate<4dev,>=3.0.0 in /home/matt/.pyenv/versions/3.8.6/envs/tf/lib/python3.8/site-packages (from google-api-python-client>=1.6.7->tf-models-official) (3.0.1)\n",
      "Requirement already satisfied: googleapis-common-protos<2.0dev,>=1.6.0 in /home/matt/.pyenv/versions/3.8.6/envs/tf/lib/python3.8/site-packages (from google-api-core<2dev,>=1.21.0->google-api-python-client>=1.6.7->tf-models-official) (1.52.0)\n",
      "Requirement already satisfied: pytz in /home/matt/.pyenv/versions/3.8.6/envs/tf/lib/python3.8/site-packages (from google-api-core<2dev,>=1.21.0->google-api-python-client>=1.6.7->tf-models-official) (2020.5)\n",
      "Requirement already satisfied: proto-plus>=1.10.0 in /home/matt/.pyenv/versions/3.8.6/envs/tf/lib/python3.8/site-packages (from google-cloud-bigquery>=0.31.0->tf-models-official) (1.13.0)\n",
      "Requirement already satisfied: google-cloud-core<2.0dev,>=1.4.1 in /home/matt/.pyenv/versions/3.8.6/envs/tf/lib/python3.8/site-packages (from google-cloud-bigquery>=0.31.0->tf-models-official) (1.5.0)\n",
      "Requirement already satisfied: google-resumable-media<2.0dev,>=0.6.0 in /home/matt/.pyenv/versions/3.8.6/envs/tf/lib/python3.8/site-packages (from google-cloud-bigquery>=0.31.0->tf-models-official) (1.2.0)\n",
      "Requirement already satisfied: google-crc32c<2.0dev,>=1.0 in /home/matt/.pyenv/versions/3.8.6/envs/tf/lib/python3.8/site-packages (from google-resumable-media<2.0dev,>=0.6.0->google-cloud-bigquery>=0.31.0->tf-models-official) (1.1.0)\n",
      "Requirement already satisfied: cffi>=1.0.0 in /home/matt/.pyenv/versions/3.8.6/envs/tf/lib/python3.8/site-packages (from google-crc32c<2.0dev,>=1.0->google-resumable-media<2.0dev,>=0.6.0->google-cloud-bigquery>=0.31.0->tf-models-official) (1.14.4)\n",
      "Requirement already satisfied: pycparser in /home/matt/.pyenv/versions/3.8.6/envs/tf/lib/python3.8/site-packages (from cffi>=1.0.0->google-crc32c<2.0dev,>=1.0->google-resumable-media<2.0dev,>=0.6.0->google-cloud-bigquery>=0.31.0->tf-models-official) (2.20)\n",
      "Requirement already satisfied: python-slugify in /home/matt/.pyenv/versions/3.8.6/envs/tf/lib/python3.8/site-packages (from kaggle>=1.3.9->tf-models-official) (4.0.1)\n",
      "Requirement already satisfied: python-dateutil in /home/matt/.pyenv/versions/3.8.6/envs/tf/lib/python3.8/site-packages (from kaggle>=1.3.9->tf-models-official) (2.8.1)\n",
      "Requirement already satisfied: tqdm in /home/matt/.pyenv/versions/3.8.6/envs/tf/lib/python3.8/site-packages (from kaggle>=1.3.9->tf-models-official) (4.55.1)\n",
      "Requirement already satisfied: dm-tree~=0.1.1 in /home/matt/.pyenv/versions/3.8.6/envs/tf/lib/python3.8/site-packages (from tensorflow-model-optimization>=0.4.1->tf-models-official) (0.1.5)\n",
      "Requirement already satisfied: pyparsing!=2.0.4,!=2.1.2,!=2.1.6,>=2.0.3 in /home/matt/.pyenv/versions/3.8.6/envs/tf/lib/python3.8/site-packages (from matplotlib->tf-models-official) (2.4.7)\n",
      "Requirement already satisfied: cycler>=0.10 in /home/matt/.pyenv/versions/3.8.6/envs/tf/lib/python3.8/site-packages (from matplotlib->tf-models-official) (0.10.0)\n",
      "Requirement already satisfied: kiwisolver>=1.0.1 in /home/matt/.pyenv/versions/3.8.6/envs/tf/lib/python3.8/site-packages (from matplotlib->tf-models-official) (1.3.1)\n",
      "Requirement already satisfied: text-unidecode>=1.3 in /home/matt/.pyenv/versions/3.8.6/envs/tf/lib/python3.8/site-packages (from python-slugify->kaggle>=1.3.9->tf-models-official) (1.3)\n",
      "Requirement already satisfied: scikit-learn>=0.21.3 in /home/matt/.pyenv/versions/3.8.6/envs/tf/lib/python3.8/site-packages (from seqeval->tf-models-official) (0.24.0)\n",
      "Requirement already satisfied: joblib>=0.11 in /home/matt/.pyenv/versions/3.8.6/envs/tf/lib/python3.8/site-packages (from scikit-learn>=0.21.3->seqeval->tf-models-official) (1.0.0)\n",
      "Requirement already satisfied: threadpoolctl>=2.0.0 in /home/matt/.pyenv/versions/3.8.6/envs/tf/lib/python3.8/site-packages (from scikit-learn>=0.21.3->seqeval->tf-models-official) (2.1.0)\n",
      "Requirement already satisfied: typeguard>=2.7 in /home/matt/.pyenv/versions/3.8.6/envs/tf/lib/python3.8/site-packages (from tensorflow-addons->tf-models-official) (2.10.0)\n",
      "Requirement already satisfied: dill in /home/matt/.pyenv/versions/3.8.6/envs/tf/lib/python3.8/site-packages (from tensorflow-datasets->tf-models-official) (0.3.3)\n",
      "Requirement already satisfied: tensorflow-metadata in /home/matt/.pyenv/versions/3.8.6/envs/tf/lib/python3.8/site-packages (from tensorflow-datasets->tf-models-official) (0.26.0)\n",
      "Requirement already satisfied: attrs>=18.1.0 in /home/matt/.pyenv/versions/3.8.6/envs/tf/lib/python3.8/site-packages (from tensorflow-datasets->tf-models-official) (20.3.0)\n",
      "Requirement already satisfied: future in /home/matt/.pyenv/versions/3.8.6/envs/tf/lib/python3.8/site-packages (from tensorflow-datasets->tf-models-official) (0.18.2)\n",
      "Requirement already satisfied: importlib-resources in /home/matt/.pyenv/versions/3.8.6/envs/tf/lib/python3.8/site-packages (from tensorflow-datasets->tf-models-official) (4.1.1)\n",
      "Requirement already satisfied: promise in /home/matt/.pyenv/versions/3.8.6/envs/tf/lib/python3.8/site-packages (from tensorflow-datasets->tf-models-official) (2.3)\n"
     ]
    }
   ],
   "source": [
    "!pip install tensorflow \"tf-models-official\""
   ]
  },
  {
   "cell_type": "code",
   "execution_count": 3,
   "metadata": {},
   "outputs": [],
   "source": [
    "import os\n",
    "import shutil\n",
    "\n",
    "import tensorflow as tf\n",
    "import tensorflow_hub as hub\n",
    "import tensorflow_text as text\n",
    "from official.nlp import optimization  # to create AdamW optmizer\n",
    "import pandas as pd\n",
    "\n",
    "import matplotlib.pyplot as plt\n",
    "\n",
    "tf.get_logger().setLevel('ERROR')"
   ]
  },
  {
   "cell_type": "code",
   "execution_count": 4,
   "metadata": {},
   "outputs": [
    {
     "name": "stdout",
     "output_type": "stream",
     "text": [
      "1 Physical GPUs, 1 Logical GPUs\n"
     ]
    }
   ],
   "source": [
    "gpus = tf.config.experimental.list_physical_devices('GPU')\n",
    "if gpus:\n",
    "  try:\n",
    "    # Currently, memory growth needs to be the same across GPUs\n",
    "    for gpu in gpus:\n",
    "      tf.config.experimental.set_memory_growth(gpu, True)\n",
    "    logical_gpus = tf.config.experimental.list_logical_devices('GPU')\n",
    "    print(len(gpus), \"Physical GPUs,\", len(logical_gpus), \"Logical GPUs\")\n",
    "  except RuntimeError as e:\n",
    "    # Memory growth must be set before GPUs have been initialized\n",
    "    print(e)"
   ]
  },
  {
   "cell_type": "code",
   "execution_count": 6,
   "metadata": {},
   "outputs": [
    {
     "data": {
      "text/html": [
       "<div>\n",
       "<style scoped>\n",
       "    .dataframe tbody tr th:only-of-type {\n",
       "        vertical-align: middle;\n",
       "    }\n",
       "\n",
       "    .dataframe tbody tr th {\n",
       "        vertical-align: top;\n",
       "    }\n",
       "\n",
       "    .dataframe thead th {\n",
       "        text-align: right;\n",
       "    }\n",
       "</style>\n",
       "<table border=\"1\" class=\"dataframe\">\n",
       "  <thead>\n",
       "    <tr style=\"text-align: right;\">\n",
       "      <th></th>\n",
       "      <th>qid</th>\n",
       "      <th>question_text</th>\n",
       "      <th>target</th>\n",
       "    </tr>\n",
       "  </thead>\n",
       "  <tbody>\n",
       "    <tr>\n",
       "      <th>0</th>\n",
       "      <td>00002165364db923c7e6</td>\n",
       "      <td>How did Quebec nationalists see their province...</td>\n",
       "      <td>0</td>\n",
       "    </tr>\n",
       "    <tr>\n",
       "      <th>1</th>\n",
       "      <td>000032939017120e6e44</td>\n",
       "      <td>Do you have an adopted dog, how would you enco...</td>\n",
       "      <td>0</td>\n",
       "    </tr>\n",
       "    <tr>\n",
       "      <th>2</th>\n",
       "      <td>0000412ca6e4628ce2cf</td>\n",
       "      <td>Why does velocity affect time? Does velocity a...</td>\n",
       "      <td>0</td>\n",
       "    </tr>\n",
       "    <tr>\n",
       "      <th>3</th>\n",
       "      <td>000042bf85aa498cd78e</td>\n",
       "      <td>How did Otto von Guericke used the Magdeburg h...</td>\n",
       "      <td>0</td>\n",
       "    </tr>\n",
       "    <tr>\n",
       "      <th>4</th>\n",
       "      <td>0000455dfa3e01eae3af</td>\n",
       "      <td>Can I convert montra helicon D to a mountain b...</td>\n",
       "      <td>0</td>\n",
       "    </tr>\n",
       "  </tbody>\n",
       "</table>\n",
       "</div>"
      ],
      "text/plain": [
       "                    qid                                      question_text  \\\n",
       "0  00002165364db923c7e6  How did Quebec nationalists see their province...   \n",
       "1  000032939017120e6e44  Do you have an adopted dog, how would you enco...   \n",
       "2  0000412ca6e4628ce2cf  Why does velocity affect time? Does velocity a...   \n",
       "3  000042bf85aa498cd78e  How did Otto von Guericke used the Magdeburg h...   \n",
       "4  0000455dfa3e01eae3af  Can I convert montra helicon D to a mountain b...   \n",
       "\n",
       "   target  \n",
       "0       0  \n",
       "1       0  \n",
       "2       0  \n",
       "3       0  \n",
       "4       0  "
      ]
     },
     "execution_count": 6,
     "metadata": {},
     "output_type": "execute_result"
    }
   ],
   "source": [
    "df=pd.read_csv(\"train.csv\")\n",
    "df.head()"
   ]
  },
  {
   "cell_type": "code",
   "execution_count": 7,
   "metadata": {},
   "outputs": [
    {
     "data": {
      "text/plain": [
       "(1306122, 3)"
      ]
     },
     "execution_count": 7,
     "metadata": {},
     "output_type": "execute_result"
    }
   ],
   "source": [
    "df.shape"
   ]
  },
  {
   "cell_type": "code",
   "execution_count": 8,
   "metadata": {},
   "outputs": [
    {
     "data": {
      "text/plain": [
       "0    0.93813\n",
       "1    0.06187\n",
       "Name: target, dtype: float64"
      ]
     },
     "execution_count": 8,
     "metadata": {},
     "output_type": "execute_result"
    }
   ],
   "source": [
    "df.target.value_counts()/df.shape[0]"
   ]
  },
  {
   "cell_type": "code",
   "execution_count": 9,
   "metadata": {},
   "outputs": [],
   "source": [
    "X = df.question_text\n",
    "y = df.target"
   ]
  },
  {
   "cell_type": "code",
   "execution_count": 10,
   "metadata": {},
   "outputs": [],
   "source": [
    "AUTOTUNE = tf.data.experimental.AUTOTUNE"
   ]
  },
  {
   "cell_type": "code",
   "execution_count": 11,
   "metadata": {},
   "outputs": [
    {
     "data": {
      "text/plain": [
       "-1"
      ]
     },
     "execution_count": 11,
     "metadata": {},
     "output_type": "execute_result"
    }
   ],
   "source": [
    "AUTOTUNE"
   ]
  },
  {
   "cell_type": "code",
   "execution_count": 12,
   "metadata": {},
   "outputs": [],
   "source": [
    "def create_dataset(X, Y, epochs, batch_size):\n",
    "# Using the tf.data.Dataset.from_tensor_slices() method we are able to get the slices of list or array\n",
    "    dataset = tf.data.Dataset.from_tensor_slices((X, Y))\n",
    "    dataset = dataset.repeat(epochs).batch(batch_size, drop_remainder=True)\n",
    "    return dataset"
   ]
  },
  {
   "cell_type": "code",
   "execution_count": 13,
   "metadata": {},
   "outputs": [],
   "source": [
    "full_dataset = create_dataset(X, y, epochs=1, batch_size=128)\n",
    "# train_ds = train_ds_raw.cache().prefetch(buffer_size=AUTOTUNE)"
   ]
  },
  {
   "cell_type": "code",
   "execution_count": 14,
   "metadata": {},
   "outputs": [
    {
     "data": {
      "text/plain": [
       "(1306122, 3)"
      ]
     },
     "execution_count": 14,
     "metadata": {},
     "output_type": "execute_result"
    }
   ],
   "source": [
    "df.shape"
   ]
  },
  {
   "cell_type": "code",
   "execution_count": 15,
   "metadata": {},
   "outputs": [],
   "source": [
    "DATASET_SIZE = 1306122\n",
    "\n",
    "train_size = int(0.7 * DATASET_SIZE)\n",
    "val_size = int(0.15 * DATASET_SIZE)\n",
    "test_size = int(0.15 * DATASET_SIZE)\n",
    "\n",
    "train_dataset = full_dataset.take(train_size)\n",
    "test_dataset = full_dataset.skip(train_size)\n",
    "val_dataset = test_dataset.skip(val_size)\n",
    "test_dataset = test_dataset.take(test_size)\n",
    "\n",
    "train_ds = train_dataset.cache().prefetch(buffer_size=AUTOTUNE)\n",
    "test_ds = test_dataset.cache().prefetch(buffer_size=AUTOTUNE)\n",
    "val_ds = val_dataset.cache().prefetch(buffer_size=AUTOTUNE)"
   ]
  },
  {
   "cell_type": "code",
   "execution_count": 16,
   "metadata": {},
   "outputs": [
    {
     "name": "stdout",
     "output_type": "stream",
     "text": [
      "(<tf.Tensor: shape=(128,), dtype=string, numpy=\n",
      "array([b'How did Quebec nationalists see their province as a nation in the 1960s?',\n",
      "       b'Do you have an adopted dog, how would you encourage people to adopt and not shop?',\n",
      "       b'Why does velocity affect time? Does velocity affect space geometry?',\n",
      "       b'How did Otto von Guericke used the Magdeburg hemispheres?',\n",
      "       b'Can I convert montra helicon D to a mountain bike by just changing the tyres?',\n",
      "       b'Is Gaza slowly becoming Auschwitz, Dachau or Treblinka for Palestinians?',\n",
      "       b'Why does Quora automatically ban conservative opinions when reported, but does not do the same for liberal views?',\n",
      "       b'Is it crazy if I wash or wipe my groceries off? Germs are everywhere.',\n",
      "       b'Is there such a thing as dressing moderately, and if so, how is that different than dressing modestly?',\n",
      "       b'Is it just me or have you ever been in this phase wherein you became ignorant to the people you once loved, completely disregarding their feelings/lives so you get to have something go your way and feel temporarily at ease. How did things change?',\n",
      "       b'What can you say about feminism?',\n",
      "       b'How were the Calgary Flames founded?',\n",
      "       b'What is the dumbest, yet possibly true explanation for Trump being elected?',\n",
      "       b'Can we use our external hard disk as a OS as well as for data storage.will the data be affected?',\n",
      "       b'I am 30, living at home and have no boyfriend. I would love a boyfriend and my own home. How can I progress my situation?',\n",
      "       b'What do you know about Bram Fischer and the Rivonia Trial?',\n",
      "       b'How difficult is it to find a good instructor to take a class near you?',\n",
      "       b'Have you licked the skin of a corpse?',\n",
      "       b'Do you think Amazon will adopt an in house approach to manufacturing similar to the Tesla or Space X business models?',\n",
      "       b'How many baronies might exist within a county palatine?',\n",
      "       b'How I know whether a girl had done sex before sex with me?',\n",
      "       b'How do I become a fast learner both in my professional career and in my personal life?',\n",
      "       b'Has the United States become the largest dictatorship in the world?',\n",
      "       b'What is the strangest phenomenon you know of, have witnessed or have generated in the area of electronics that has no explanation in terms of modern physics?',\n",
      "       b'Should I leave my friends and find new ones?',\n",
      "       b'Can you make Amazon Alexa trigger events in the browser?',\n",
      "       b\"Why haven't two democracies never ever went for a full fledged war? What stops them?\",\n",
      "       b'How can I top CBSE in 6 months?',\n",
      "       b'What should I know before visiting Mcleodganj and doing the Triund trek?',\n",
      "       b'How do modern military submarines reduce noise to achieve stealth?',\n",
      "       b'Which babies are more sweeter to their parents? Dark skin babies or light skin babies?',\n",
      "       b'How can I remove black heads which are all over my nose?',\n",
      "       b'If lightsabers are created by individual wielders, does each saber have unique powers/abilities?',\n",
      "       b'Is anyone still using Visual Basic? Is it worth learning in 2018? Would there be professional jobs for Visual Basic programmers in 2018-19-20?',\n",
      "       b'What is Sykes Enterprises all about?',\n",
      "       b'Is there any clear relations between the number of nodes/DOFs and the computational performances and requirements in FEA or CFD analyses (for ANSYS solutions in particular)?',\n",
      "       b\"Why my package still is ISC since May 31,2017 and I don't have updated?\",\n",
      "       b'What does great wit mean?',\n",
      "       b'In your experience working with Realtors, what do you wish Realtors did better?',\n",
      "       b'How do I get charge by contact?',\n",
      "       b'Do all public school teachers automatically get vacation whenever they ask for it?',\n",
      "       b'What is the role of technology in using a resource?',\n",
      "       b'Should I opt Jaypee University Guna for mechanical engineering?',\n",
      "       b'Where can I download Microsoft Word for Windows 2.0 in Hungarian?',\n",
      "       b'What do I need to know about buying a car in South Africa as an American?',\n",
      "       b\"As someone who didn't enjoy Harry Potter and the Order of the Phoenix movie, can I at least enjoy the book of it?\",\n",
      "       b'What is the writing style of the book \"How to Resist Prince Charming\" by Linda Kage?',\n",
      "       b'My mother expects me to memorize all her usernames and passwords. How can I make her more responsible about them as I will be going to college in one year?',\n",
      "       b'What is that movie in which a kid is fooled into thinking that germs will kill him and so he lives in a bubble for most of his life, but then decides to travel the world in a portable germ-free bubble?',\n",
      "       b'Why most of the computer science student buy final year project from outside rather doing it by own, is our education system really that week?',\n",
      "       b'What are some ways to shorten your period, and what are the risks of doing it?',\n",
      "       b'Why do we calead leap year.?',\n",
      "       b'How many days will it take to get rid of spleen enlargement?',\n",
      "       b'Which machine learning techniques can be used to extract metadata (font color, size, indentation and alignment) of a word document (.docx) file, and can it be integrated with a web application?',\n",
      "       b'Does it work with girls the way Hitch Will Smith asks not to dance too much?',\n",
      "       b'Why India Act 1935 was so special?',\n",
      "       b\"Are there any sports that you don't like?\",\n",
      "       b'How do DNA and RNA compare and contrast?',\n",
      "       b'Someone breaks into your house you shoot and kill them they were armed with only a knife what happens now?',\n",
      "       b'How can I write a biography about Gianni Versace?',\n",
      "       b'Are extroverted better and faster at processing and expelling information than introverts?',\n",
      "       b'Have you ever been recognized at a place very far from your home?',\n",
      "       b'Why do price comparison websites work well in financial services?',\n",
      "       b'Does ragging happen at NIFT Bangalore?',\n",
      "       b'Why their are so many bad reviews of Bahubali 2 on IMDb?',\n",
      "       b'Is swallowing Listerine dangerous?',\n",
      "       b'What are the theories in critical thinking?',\n",
      "       b'What are the biggest problems, questions, doubts that you come across when trying to choose the paint color for a room?',\n",
      "       b'How can I get cheap flights in Edinburgh?',\n",
      "       b\"What is China's new chick?\",\n",
      "       b'How do I send large picture files through an email?',\n",
      "       b\"Why doesn't eBay allow the sale of WWII purple heart medals even though they have categories specifically for WWII military medals?\",\n",
      "       b'What are the characteristics that define isovolumetric relaxation?',\n",
      "       b'How do I work in cybersecurity overseas?',\n",
      "       b'Do web developer refer to W3C standard practice?',\n",
      "       b'Why has the internet become a problem? Why do we rely on it for everything?',\n",
      "       b'Can we get ITC on charges levied by banks?',\n",
      "       b'Where is Muhammed now?',\n",
      "       b'What are the services that can be provided by a food testing lab and what are their certified requirements?',\n",
      "       b'Is it ok to be solo your whole life and pretend no one exists? Is there such thing as being unwanted?',\n",
      "       b'How do I change the owner of a current YouTube account? The original Owner was let go and I do not have access to change anything.',\n",
      "       b'Are the Archer characters animated based on celebrities?',\n",
      "       b'What is the best way to propose a girl without annoying her?',\n",
      "       b'What can $500 million get you in solar power?',\n",
      "       b'What are the recommended 2D game engines for a beginning Python programmer?',\n",
      "       b'Is there such a thing as teleological pantheism?',\n",
      "       b'What are some best college for aircraft propulsion(M.S)?',\n",
      "       b'What countries in the world have freedom of speech on par with the US?',\n",
      "       b'What lead to the Red Terror in Ethiopia?',\n",
      "       b'What is the best pen at low cost in all sorts of things?',\n",
      "       b'Do you trust a business that has a Facebook page as its website?',\n",
      "       b'Should we improve our piano skill by keep practicing hard pieces? Is that the most effective way?',\n",
      "       b\"I wear an insulin pump, and a lot of girls don't like it. Nick Jonas wears one and dated Selena Gomez. Is there difference between me and Nick several zeros missing in my bank account?\",\n",
      "       b'Will Turkey be seperated and give a land to Kurds because of foreign powers like USA in the future?',\n",
      "       b'R sq. cos-1 when r=18.5 equals?',\n",
      "       b'Who sings the song in my head?',\n",
      "       b'Can Chronicled replace supply Chain?',\n",
      "       b'How can you solve this equation\\xe2\\x80\\xa6 Sin(a*t)-b*t=0?',\n",
      "       b'What are the demerits of excellence in academic pursuits?',\n",
      "       b'How many Indians are in Melbourne, Australia?',\n",
      "       b\"What do physicists, mathematicians, computer scientists and philosophers think of David Deutsch's 'Constructor Theory'?\",\n",
      "       b'Why are old scriptures from eastern cultures appear lost in the current culture?',\n",
      "       b'Can I know my I.Q, even if I hate numbers?',\n",
      "       b'How can I really make up my mind and get rid of my bad habits like procrastination?',\n",
      "       b'Was there any relationship between Napoleon and Ali Pasha of Tepelene?',\n",
      "       b'Where are presynaptic neurons found?',\n",
      "       b'What ways will a narcissist mother punish her child for going no contact if child goes back to contact with her?',\n",
      "       b\"Can I start freelancing after finishing Udacity's Android basic nanodegree?\",\n",
      "       b'What is the reason why we really need Bitcoin?',\n",
      "       b'What are some good songs for a long journey?',\n",
      "       b\"If blacks support school choice and mandatory sentencing for criminals why don't they vote Republican?\",\n",
      "       b'What should be added to thrice the rational number -8/9 to get 4/7?',\n",
      "       b'In a four movement symphony, what is typically the form of the second movement?',\n",
      "       b'What are various stock exchanges?',\n",
      "       b'I am gay boy and I love my cousin (boy). He is sexy, but I dont know what to do. He is hot, and I want to see his di**. What should I do?',\n",
      "       b'Which races have the smallest penis?',\n",
      "       b'What do the terms Computer Architecture, Microarchitecture and Instruction set Architecture(ISA) mean?',\n",
      "       b'Are iPhone users psychologically trapped in brand naming and avoiding to complain about very reasonable missing features such as battery life performance, that iPhone lacks while other flagship in 2017-2018 are doing doing much better?',\n",
      "       b'How long is one semester in Ontario?',\n",
      "       b'Why do females find penises ugly?',\n",
      "       b'What are the best ways to add flour to a homemade chili?',\n",
      "       b'What advice do you have for anyone who wishes to accomplish what you have?',\n",
      "       b'How do overcome my extreme fear of insects and bugs?',\n",
      "       b'What are some examples of durable work gloves?',\n",
      "       b'2 cars move 6 miles towards each other and then move 8 miles in oppostie direction, what is the distance between them?',\n",
      "       b'What apps do you use the most for work in a given day?',\n",
      "       b'Can R only take a maximum 100 headers in a dataset? I noticed it will only print the first 100. Is there anyway to change that?',\n",
      "       b'How do I marry an American woman for a Green Card? How much do they charge?'],\n",
      "      dtype=object)>, <tf.Tensor: shape=(128,), dtype=int64, numpy=\n",
      "array([0, 0, 0, 0, 0, 0, 0, 0, 0, 0, 0, 0, 0, 0, 0, 0, 0, 0, 0, 0, 0, 0,\n",
      "       1, 0, 0, 0, 0, 0, 0, 0, 1, 0, 0, 0, 0, 0, 0, 0, 0, 0, 0, 0, 0, 0,\n",
      "       0, 0, 0, 0, 0, 0, 0, 0, 0, 0, 0, 0, 0, 0, 0, 0, 0, 0, 0, 0, 0, 0,\n",
      "       0, 0, 0, 0, 0, 0, 0, 0, 0, 0, 0, 0, 0, 0, 0, 0, 0, 0, 0, 0, 0, 0,\n",
      "       0, 0, 0, 0, 0, 0, 0, 0, 0, 0, 0, 0, 0, 0, 0, 0, 0, 0, 0, 0, 0, 0,\n",
      "       1, 0, 0, 0, 1, 1, 0, 0, 0, 1, 0, 0, 0, 0, 0, 0, 0, 1])>)\n"
     ]
    }
   ],
   "source": [
    "for x in train_ds.take(1):\n",
    "    print(x)"
   ]
  },
  {
   "cell_type": "code",
   "execution_count": 17,
   "metadata": {},
   "outputs": [],
   "source": [
    "class_names = {0 : \"sincire\", 1: \"insincire\"}"
   ]
  },
  {
   "cell_type": "code",
   "execution_count": 18,
   "metadata": {},
   "outputs": [
    {
     "name": "stdout",
     "output_type": "stream",
     "text": [
      "question: b'How did Quebec nationalists see their province as a nation in the 1960s?'\n",
      "Label : 0 (sincire)\n",
      "question: b'Do you have an adopted dog, how would you encourage people to adopt and not shop?'\n",
      "Label : 0 (sincire)\n",
      "question: b'Why does velocity affect time? Does velocity affect space geometry?'\n",
      "Label : 0 (sincire)\n"
     ]
    }
   ],
   "source": [
    "for text_batch, label_batch in train_ds.take(1):\n",
    "    for i in range(3):\n",
    "        print(f'question: {text_batch.numpy()[i]}')\n",
    "        label = label_batch.numpy()[i]\n",
    "        print(f'Label : {label} ({class_names[label]})')"
   ]
  },
  {
   "cell_type": "code",
   "execution_count": 19,
   "metadata": {},
   "outputs": [
    {
     "name": "stdout",
     "output_type": "stream",
     "text": [
      "BERT model selected           : https://tfhub.dev/tensorflow/small_bert/bert_en_uncased_L-4_H-512_A-8/1\n",
      "Preprocess model auto-selected: https://tfhub.dev/tensorflow/bert_en_uncased_preprocess/1\n"
     ]
    }
   ],
   "source": [
    "#@title Choose a BERT model to fine-tune\n",
    "\n",
    "bert_model_name = 'small_bert/bert_en_uncased_L-4_H-512_A-8'  #@param [\"bert_en_uncased_L-12_H-768_A-12\", \"bert_en_cased_L-12_H-768_A-12\", \"bert_multi_cased_L-12_H-768_A-12\", \"small_bert/bert_en_uncased_L-2_H-128_A-2\", \"small_bert/bert_en_uncased_L-2_H-256_A-4\", \"small_bert/bert_en_uncased_L-2_H-512_A-8\", \"small_bert/bert_en_uncased_L-2_H-768_A-12\", \"small_bert/bert_en_uncased_L-4_H-128_A-2\", \"small_bert/bert_en_uncased_L-4_H-256_A-4\", \"small_bert/bert_en_uncased_L-4_H-512_A-8\", \"small_bert/bert_en_uncased_L-4_H-768_A-12\", \"small_bert/bert_en_uncased_L-6_H-128_A-2\", \"small_bert/bert_en_uncased_L-6_H-256_A-4\", \"small_bert/bert_en_uncased_L-6_H-512_A-8\", \"small_bert/bert_en_uncased_L-6_H-768_A-12\", \"small_bert/bert_en_uncased_L-8_H-128_A-2\", \"small_bert/bert_en_uncased_L-8_H-256_A-4\", \"small_bert/bert_en_uncased_L-8_H-512_A-8\", \"small_bert/bert_en_uncased_L-8_H-768_A-12\", \"small_bert/bert_en_uncased_L-10_H-128_A-2\", \"small_bert/bert_en_uncased_L-10_H-256_A-4\", \"small_bert/bert_en_uncased_L-10_H-512_A-8\", \"small_bert/bert_en_uncased_L-10_H-768_A-12\", \"small_bert/bert_en_uncased_L-12_H-128_A-2\", \"small_bert/bert_en_uncased_L-12_H-256_A-4\", \"small_bert/bert_en_uncased_L-12_H-512_A-8\", \"small_bert/bert_en_uncased_L-12_H-768_A-12\", \"albert_en_base\", \"electra_small\", \"electra_base\", \"experts_pubmed\", \"experts_wiki_books\", \"talking-heads_base\"]\n",
    "\n",
    "map_name_to_handle = {\n",
    "    'small_bert/bert_en_uncased_L-4_H-512_A-8':\n",
    "        'https://tfhub.dev/tensorflow/small_bert/bert_en_uncased_L-4_H-512_A-8/1',\n",
    "}\n",
    "\n",
    "map_model_to_preprocess = {\n",
    "    'small_bert/bert_en_uncased_L-4_H-512_A-8':\n",
    "        'https://tfhub.dev/tensorflow/bert_en_uncased_preprocess/1',\n",
    "    }\n",
    "\n",
    "tfhub_handle_encoder = map_name_to_handle[bert_model_name]\n",
    "tfhub_handle_preprocess = map_model_to_preprocess[bert_model_name]\n",
    "\n",
    "print(f'BERT model selected           : {tfhub_handle_encoder}')\n",
    "print(f'Preprocess model auto-selected: {tfhub_handle_preprocess}')"
   ]
  },
  {
   "cell_type": "code",
   "execution_count": 20,
   "metadata": {},
   "outputs": [],
   "source": [
    "bert_preprocess_model = hub.KerasLayer(tfhub_handle_preprocess)"
   ]
  },
  {
   "cell_type": "code",
   "execution_count": 21,
   "metadata": {},
   "outputs": [],
   "source": [
    "def build_classifier_model():\n",
    "  text_input = tf.keras.layers.Input(shape=(), dtype=tf.string, name='text')\n",
    "  preprocessing_layer = hub.KerasLayer(tfhub_handle_preprocess, name='preprocessing')\n",
    "  encoder_inputs = preprocessing_layer(text_input)\n",
    "  encoder = hub.KerasLayer(tfhub_handle_encoder, trainable=True, name='BERT_encoder')\n",
    "  outputs = encoder(encoder_inputs)\n",
    "  net = outputs['pooled_output']\n",
    "  net = tf.keras.layers.Dropout(0.1)(net)\n",
    "  net = tf.keras.layers.Dense(1, activation=None, name='classifier')(net)\n",
    "  return tf.keras.Model(text_input, net)"
   ]
  },
  {
   "cell_type": "code",
   "execution_count": 22,
   "metadata": {},
   "outputs": [],
   "source": [
    "classifier_model = build_classifier_model()"
   ]
  },
  {
   "cell_type": "code",
   "execution_count": 23,
   "metadata": {},
   "outputs": [],
   "source": [
    "loss = tf.keras.losses.BinaryCrossentropy(from_logits=True)\n",
    "metrics = tf.metrics.BinaryAccuracy()"
   ]
  },
  {
   "cell_type": "code",
   "execution_count": 24,
   "metadata": {},
   "outputs": [],
   "source": [
    "epochs = 5\n",
    "steps_per_epoch = tf.data.experimental.cardinality(train_ds).numpy()\n",
    "num_train_steps = steps_per_epoch * epochs\n",
    "num_warmup_steps = int(0.1*num_train_steps)\n",
    "\n",
    "init_lr = 3e-5\n",
    "optimizer = optimization.create_optimizer(init_lr=init_lr,\n",
    "                                          num_train_steps=num_train_steps,\n",
    "                                          num_warmup_steps=num_warmup_steps,\n",
    "                                          optimizer_type='adamw')"
   ]
  },
  {
   "cell_type": "code",
   "execution_count": 25,
   "metadata": {},
   "outputs": [],
   "source": [
    "classifier_model.compile(optimizer=optimizer,\n",
    "                         loss=loss,\n",
    "                         metrics=metrics)"
   ]
  },
  {
   "cell_type": "code",
   "execution_count": 26,
   "metadata": {},
   "outputs": [
    {
     "name": "stdout",
     "output_type": "stream",
     "text": [
      "Model: \"model\"\n",
      "__________________________________________________________________________________________________\n",
      "Layer (type)                    Output Shape         Param #     Connected to                     \n",
      "==================================================================================================\n",
      "text (InputLayer)               [(None,)]            0                                            \n",
      "__________________________________________________________________________________________________\n",
      "preprocessing (KerasLayer)      {'input_type_ids': ( 0           text[0][0]                       \n",
      "__________________________________________________________________________________________________\n",
      "BERT_encoder (KerasLayer)       {'pooled_output': (N 28763649    preprocessing[0][0]              \n",
      "                                                                 preprocessing[0][1]              \n",
      "                                                                 preprocessing[0][2]              \n",
      "__________________________________________________________________________________________________\n",
      "dropout (Dropout)               (None, 512)          0           BERT_encoder[0][5]               \n",
      "__________________________________________________________________________________________________\n",
      "classifier (Dense)              (None, 1)            513         dropout[0][0]                    \n",
      "==================================================================================================\n",
      "Total params: 28,764,162\n",
      "Trainable params: 28,764,161\n",
      "Non-trainable params: 1\n",
      "__________________________________________________________________________________________________\n"
     ]
    }
   ],
   "source": [
    "classifier_model.summary()"
   ]
  },
  {
   "cell_type": "code",
   "execution_count": 27,
   "metadata": {},
   "outputs": [],
   "source": [
    "checkpoint = tf.keras.callbacks.ModelCheckpoint(\n",
    "    \"bert_classifier\", monitor='val_loss', verbose=0, save_best_only=False,\n",
    "    save_weights_only=False, mode='auto', save_freq='epoch',\n",
    "    options=None\n",
    ")"
   ]
  },
  {
   "cell_type": "code",
   "execution_count": 28,
   "metadata": {},
   "outputs": [
    {
     "name": "stdout",
     "output_type": "stream",
     "text": [
      "Training model with https://tfhub.dev/tensorflow/small_bert/bert_en_uncased_L-4_H-512_A-8/1\n",
      "Epoch 1/5\n",
      "10204/10204 [==============================] - 5210s 510ms/step - loss: 0.1757 - binary_accuracy: 0.9318\n"
     ]
    },
    {
     "name": "stderr",
     "output_type": "stream",
     "text": [
      "WARNING:absl:Found untraced functions such as restored_function_body, restored_function_body, restored_function_body, restored_function_body, restored_function_body while saving (showing 5 of 310). These functions will not be directly callable after loading.\n",
      "WARNING:absl:Found untraced functions such as restored_function_body, restored_function_body, restored_function_body, restored_function_body, restored_function_body while saving (showing 5 of 310). These functions will not be directly callable after loading.\n"
     ]
    },
    {
     "name": "stdout",
     "output_type": "stream",
     "text": [
      "Epoch 2/5\n",
      "10204/10204 [==============================] - 5212s 511ms/step - loss: 0.0949 - binary_accuracy: 0.9605\n"
     ]
    },
    {
     "name": "stderr",
     "output_type": "stream",
     "text": [
      "WARNING:absl:Found untraced functions such as restored_function_body, restored_function_body, restored_function_body, restored_function_body, restored_function_body while saving (showing 5 of 310). These functions will not be directly callable after loading.\n",
      "WARNING:absl:Found untraced functions such as restored_function_body, restored_function_body, restored_function_body, restored_function_body, restored_function_body while saving (showing 5 of 310). These functions will not be directly callable after loading.\n"
     ]
    },
    {
     "name": "stdout",
     "output_type": "stream",
     "text": [
      "Epoch 3/5\n",
      "10204/10204 [==============================] - 5244s 514ms/step - loss: 0.0822 - binary_accuracy: 0.9657\n"
     ]
    },
    {
     "name": "stderr",
     "output_type": "stream",
     "text": [
      "WARNING:absl:Found untraced functions such as restored_function_body, restored_function_body, restored_function_body, restored_function_body, restored_function_body while saving (showing 5 of 310). These functions will not be directly callable after loading.\n",
      "WARNING:absl:Found untraced functions such as restored_function_body, restored_function_body, restored_function_body, restored_function_body, restored_function_body while saving (showing 5 of 310). These functions will not be directly callable after loading.\n"
     ]
    },
    {
     "name": "stdout",
     "output_type": "stream",
     "text": [
      "Epoch 4/5\n",
      "10204/10204 [==============================] - 5253s 515ms/step - loss: 0.0717 - binary_accuracy: 0.9705\n"
     ]
    },
    {
     "name": "stderr",
     "output_type": "stream",
     "text": [
      "WARNING:absl:Found untraced functions such as restored_function_body, restored_function_body, restored_function_body, restored_function_body, restored_function_body while saving (showing 5 of 310). These functions will not be directly callable after loading.\n",
      "WARNING:absl:Found untraced functions such as restored_function_body, restored_function_body, restored_function_body, restored_function_body, restored_function_body while saving (showing 5 of 310). These functions will not be directly callable after loading.\n"
     ]
    },
    {
     "name": "stdout",
     "output_type": "stream",
     "text": [
      "Epoch 5/5\n",
      "10204/10204 [==============================] - 5253s 515ms/step - loss: 0.0640 - binary_accuracy: 0.9739\n"
     ]
    },
    {
     "name": "stderr",
     "output_type": "stream",
     "text": [
      "WARNING:absl:Found untraced functions such as restored_function_body, restored_function_body, restored_function_body, restored_function_body, restored_function_body while saving (showing 5 of 310). These functions will not be directly callable after loading.\n",
      "WARNING:absl:Found untraced functions such as restored_function_body, restored_function_body, restored_function_body, restored_function_body, restored_function_body while saving (showing 5 of 310). These functions will not be directly callable after loading.\n"
     ]
    }
   ],
   "source": [
    "print(f'Training model with {tfhub_handle_encoder}')\n",
    "history = classifier_model.fit(x=train_ds, \n",
    "                               validation_data=val_ds,\n",
    "                               epochs=epochs,callbacks = [checkpoint])"
   ]
  },
  {
   "cell_type": "code",
   "execution_count": 29,
   "metadata": {},
   "outputs": [
    {
     "name": "stderr",
     "output_type": "stream",
     "text": [
      "WARNING:absl:Found untraced functions such as restored_function_body, restored_function_body, restored_function_body, restored_function_body, restored_function_body while saving (showing 5 of 310). These functions will not be directly callable after loading.\n",
      "WARNING:absl:Found untraced functions such as restored_function_body, restored_function_body, restored_function_body, restored_function_body, restored_function_body while saving (showing 5 of 310). These functions will not be directly callable after loading.\n"
     ]
    }
   ],
   "source": [
    "classifier_model.save(\"model_5eps_9739binAcc\")"
   ]
  },
  {
   "cell_type": "code",
   "execution_count": null,
   "metadata": {},
   "outputs": [],
   "source": []
  }
 ],
 "metadata": {
  "kernelspec": {
   "display_name": "Python 3",
   "language": "python",
   "name": "python3"
  },
  "language_info": {
   "codemirror_mode": {
    "name": "ipython",
    "version": 3
   },
   "file_extension": ".py",
   "mimetype": "text/x-python",
   "name": "python",
   "nbconvert_exporter": "python",
   "pygments_lexer": "ipython3",
   "version": "3.8.6"
  }
 },
 "nbformat": 4,
 "nbformat_minor": 4
}
